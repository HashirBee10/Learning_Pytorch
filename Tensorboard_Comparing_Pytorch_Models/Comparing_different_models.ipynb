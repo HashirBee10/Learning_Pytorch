{
 "cells": [
  {
   "cell_type": "markdown",
   "metadata": {},
   "source": [
    "### Comparing different models on Tensorboard"
   ]
  },
  {
   "cell_type": "markdown",
   "metadata": {},
   "source": [
    "#### Importing packages"
   ]
  },
  {
   "cell_type": "code",
   "execution_count": 1,
   "metadata": {},
   "outputs": [],
   "source": [
    "import torch\n",
    "import torch.nn as nn\n",
    "import torch.nn.functional as F\n",
    "import torch.optim as optim\n",
    "\n",
    "import torchvision\n",
    "import torchvision.transforms as transforms\n",
    "                                            \n",
    "torch.set_printoptions(linewidth=120)    # Display options for output\n",
    "torch.set_grad_enabled(True)             # Already by default\n",
    "\n",
    "from torch.utils.tensorboard import SummaryWriter"
   ]
  },
  {
   "cell_type": "markdown",
   "metadata": {},
   "source": [
    "#### Building our Network"
   ]
  },
  {
   "cell_type": "code",
   "execution_count": 2,
   "metadata": {},
   "outputs": [],
   "source": [
    "class Network(nn.Module):\n",
    "    def __init__(self):\n",
    "        super().__init__()\n",
    "        \n",
    "        # Two convolutional layers\n",
    "        self.conv1 = nn.Conv2d(in_channels=1, out_channels=6, kernel_size=5)\n",
    "        self.conv2 = nn.Conv2d(in_channels=6, out_channels=12, kernel_size=5)\n",
    "        \n",
    "        # Three fully-connected layers\n",
    "        self.fc1 = nn.Linear(in_features=12*4*4, out_features=120) \n",
    "        self.fc2 = nn.Linear(in_features=120, out_features=60)\n",
    "        self.out = nn.Linear(in_features=60, out_features=10)\n",
    "        \n",
    "    def forward(self,t):\n",
    "        \n",
    "        # Forward Propagation\n",
    "        \n",
    "        t = F.relu(self.conv1(t))\n",
    "        t = F.max_pool2d(t,kernel_size=2, stride=2)\n",
    "        \n",
    "        t = F.relu(self.conv2(t))\n",
    "        t = F.max_pool2d(t,kernel_size=2, stride=2)\n",
    "        \n",
    "        t = t.reshape(-1,12*4*4)\n",
    "        t = F.relu(self.fc1(t))\n",
    "        \n",
    "        t = F.relu(self.fc2(t))\n",
    "        \n",
    "        t = self.out(t)\n",
    "        \n",
    "        return t"
   ]
  },
  {
   "cell_type": "markdown",
   "metadata": {},
   "source": [
    "#### Dataset"
   ]
  },
  {
   "cell_type": "code",
   "execution_count": 3,
   "metadata": {},
   "outputs": [],
   "source": [
    "train_set = torchvision.datasets.FashionMNIST(\n",
    "    root='.data',\n",
    "    train=True,\n",
    "    download=True,\n",
    "    transform=transforms.Compose([\n",
    "        transforms.ToTensor()\n",
    "    ])\n",
    ")"
   ]
  },
  {
   "cell_type": "markdown",
   "metadata": {},
   "source": [
    "#### Different Learning rates and Batch size for different models"
   ]
  },
  {
   "cell_type": "code",
   "execution_count": 5,
   "metadata": {},
   "outputs": [
    {
     "data": {
      "text/plain": [
       "[[0.01, 0.001], [10, 100, 1000], [True, False]]"
      ]
     },
     "execution_count": 5,
     "metadata": {},
     "output_type": "execute_result"
    }
   ],
   "source": [
    "from itertools import product\n",
    "\n",
    "parameter = dict(\n",
    "    lr = [.01, .001],\n",
    "    batch_size =[10,100,1000],\n",
    "    shuffle = [True,False]\n",
    ")\n",
    "\n",
    "parameter_values = [v for v in parameter.values()]\n",
    "\n",
    "parameter_values"
   ]
  },
  {
   "cell_type": "markdown",
   "metadata": {},
   "source": [
    "Below are the different hyper-parameters for different models to compare"
   ]
  },
  {
   "cell_type": "code",
   "execution_count": 6,
   "metadata": {},
   "outputs": [
    {
     "name": "stdout",
     "output_type": "stream",
     "text": [
      "0.01 10 True\n",
      "0.01 10 False\n",
      "0.01 100 True\n",
      "0.01 100 False\n",
      "0.01 1000 True\n",
      "0.01 1000 False\n",
      "0.001 10 True\n",
      "0.001 10 False\n",
      "0.001 100 True\n",
      "0.001 100 False\n",
      "0.001 1000 True\n",
      "0.001 1000 False\n"
     ]
    }
   ],
   "source": [
    "for lr,batch_size,shuffle in product(*parameter_values):\n",
    "    print(lr,batch_size,shuffle)"
   ]
  },
  {
   "cell_type": "markdown",
   "metadata": {},
   "source": [
    "#### To find number of correct predictions"
   ]
  },
  {
   "cell_type": "code",
   "execution_count": 4,
   "metadata": {},
   "outputs": [],
   "source": [
    "def no_of_correct(preds,labels):\n",
    "    return preds.argmax(dim=1).eq(labels).sum().item()"
   ]
  },
  {
   "cell_type": "markdown",
   "metadata": {},
   "source": [
    "#### Building Network"
   ]
  },
  {
   "cell_type": "code",
   "execution_count": 7,
   "metadata": {},
   "outputs": [
    {
     "name": "stdout",
     "output_type": "stream",
     "text": [
      "epoch 0 total_correct: 45855 loss: 3761.5932630929165\n",
      "epoch 1 total_correct: 48558 loss: 3183.9299962569494\n",
      "epoch 2 total_correct: 48901 loss: 3124.7426017308608\n",
      "epoch 3 total_correct: 48668 loss: 3199.1840930195176\n",
      "epoch 4 total_correct: 48518 loss: 3217.3085998054594\n",
      "epoch 0 total_correct: 44342 loss: 4099.078906334005\n",
      "epoch 1 total_correct: 47163 loss: 3503.6912494851276\n",
      "epoch 2 total_correct: 47643 loss: 3415.998385605868\n",
      "epoch 3 total_correct: 47912 loss: 3381.634083751589\n",
      "epoch 4 total_correct: 48088 loss: 3324.5636867750436\n",
      "epoch 0 total_correct: 48211 loss: 313.9032698273659\n",
      "epoch 1 total_correct: 51749 loss: 223.5267741382122\n",
      "epoch 2 total_correct: 52256 loss: 205.25677658617496\n",
      "epoch 3 total_correct: 52444 loss: 201.18659153580666\n",
      "epoch 4 total_correct: 52859 loss: 192.4270580112934\n",
      "epoch 0 total_correct: 47341 loss: 336.9858583807945\n",
      "epoch 1 total_correct: 51501 loss: 230.28303688764572\n",
      "epoch 2 total_correct: 52156 loss: 211.0113084614277\n",
      "epoch 3 total_correct: 52678 loss: 198.9563176482916\n",
      "epoch 4 total_correct: 52855 loss: 195.33689936250448\n",
      "epoch 0 total_correct: 38889 loss: 55.95662069320679\n",
      "epoch 1 total_correct: 47166 loss: 32.606428533792496\n",
      "epoch 2 total_correct: 49890 loss: 27.3008573949337\n",
      "epoch 3 total_correct: 51345 loss: 23.578521072864532\n",
      "epoch 4 total_correct: 52092 loss: 21.267073571681976\n",
      "epoch 0 total_correct: 34891 loss: 64.94938069581985\n",
      "epoch 1 total_correct: 47121 loss: 33.89486587047577\n",
      "epoch 2 total_correct: 50052 loss: 27.188469618558884\n",
      "epoch 3 total_correct: 51242 loss: 23.895352125167847\n",
      "epoch 4 total_correct: 51818 loss: 22.156362116336823\n",
      "epoch 0 total_correct: 46748 loss: 3495.7825475740246\n",
      "epoch 1 total_correct: 51364 loss: 2336.7950595866423\n",
      "epoch 2 total_correct: 52486 loss: 2020.3330594251165\n",
      "epoch 3 total_correct: 53109 loss: 1843.7820735574933\n",
      "epoch 4 total_correct: 53584 loss: 1719.445137573406\n",
      "epoch 0 total_correct: 46935 loss: 3472.6611150903627\n",
      "epoch 1 total_correct: 51583 loss: 2295.7625950411893\n",
      "epoch 2 total_correct: 52549 loss: 2004.4370658394764\n",
      "epoch 3 total_correct: 53167 loss: 1835.872934783809\n",
      "epoch 4 total_correct: 53629 loss: 1717.977937654534\n",
      "epoch 0 total_correct: 42272 loss: 464.56904995441437\n",
      "epoch 1 total_correct: 48347 loss: 307.8552123606205\n",
      "epoch 2 total_correct: 50180 loss: 266.0541433393955\n",
      "epoch 3 total_correct: 51328 loss: 237.25498762726784\n",
      "epoch 4 total_correct: 52083 loss: 216.39061442017555\n",
      "epoch 0 total_correct: 42445 loss: 467.4093804657459\n",
      "epoch 1 total_correct: 48307 loss: 310.9149552285671\n",
      "epoch 2 total_correct: 49996 loss: 271.0084148943424\n",
      "epoch 3 total_correct: 50905 loss: 247.67325311899185\n",
      "epoch 4 total_correct: 51567 loss: 230.09522084891796\n",
      "epoch 0 total_correct: 27079 loss: 95.91947817802429\n",
      "epoch 1 total_correct: 41874 loss: 48.2233721613884\n",
      "epoch 2 total_correct: 44139 loss: 41.87838673591614\n",
      "epoch 3 total_correct: 45378 loss: 38.6158047914505\n",
      "epoch 4 total_correct: 46455 loss: 36.12984812259674\n",
      "epoch 0 total_correct: 23934 loss: 102.5172318816185\n",
      "epoch 1 total_correct: 42742 loss: 45.435416638851166\n",
      "epoch 2 total_correct: 45600 loss: 37.391880452632904\n",
      "epoch 3 total_correct: 47104 loss: 33.51624417304993\n",
      "epoch 4 total_correct: 48152 loss: 30.99720597267151\n"
     ]
    }
   ],
   "source": [
    "for lr,batch_size,shuffle in product(*parameter_values):\n",
    "    \n",
    "    comment = f'batch_size={batch_size} lr={lr} shuffle={shuffle}'\n",
    "    \n",
    "    network = Network()\n",
    "    train_loader = torch.utils.data.DataLoader(train_set, batch_size=batch_size)\n",
    "    optimizer = optim.Adam(network.parameters(), lr=lr)\n",
    "\n",
    "    images, labels = next(iter(train_loader))\n",
    "    grid = torchvision.utils.make_grid(images)\n",
    "\n",
    "    tb = SummaryWriter(comment=comment)\n",
    "    tb.add_image('images', grid)\n",
    "    tb.add_graph(network, images)\n",
    "\n",
    "    for epoch in range(5):\n",
    "\n",
    "        total_loss = 0\n",
    "        total_correct = 0\n",
    "\n",
    "        for batch in train_loader: # Get Batch\n",
    "\n",
    "            images, labels = batch\n",
    "\n",
    "            preds = network(images)\n",
    "            loss = F.cross_entropy(preds,labels)\n",
    "\n",
    "            optimizer.zero_grad()\n",
    "            loss.backward()\n",
    "            optimizer.step()\n",
    "\n",
    "            total_loss += loss.item()\n",
    "            total_correct += no_of_correct(preds,labels)\n",
    "\n",
    "        tb.add_scalar('Loss', total_loss, epoch)\n",
    "        tb.add_scalar('Number Correct', total_correct, epoch)\n",
    "        tb.add_scalar('Accuracy', total_correct / len(train_set), epoch)\n",
    "\n",
    "        tb.add_histogram('conv1.bias', network.conv1.bias, epoch)\n",
    "        tb.add_histogram('conv1.weight', network.conv1.weight, epoch)\n",
    "        tb.add_histogram('conv1.weight.grad', network.conv1.weight.grad, epoch)\n",
    "\n",
    "        print(\n",
    "            \"epoch\", epoch, \n",
    "            \"total_correct:\", total_correct, \n",
    "            \"loss:\", total_loss\n",
    "        )\n",
    "\n",
    "    tb.close()"
   ]
  },
  {
   "cell_type": "markdown",
   "metadata": {},
   "source": [
    "#### Accuracy of Model"
   ]
  },
  {
   "cell_type": "code",
   "execution_count": 11,
   "metadata": {},
   "outputs": [
    {
     "name": "stdout",
     "output_type": "stream",
     "text": [
      "Accuracy of the model =  87.58666666666667 %\n"
     ]
    }
   ],
   "source": [
    "accuracy = total_correct/len(train_set)\n",
    "print('Accuracy of the model = ', accuracy*100, '%')"
   ]
  },
  {
   "cell_type": "raw",
   "metadata": {},
   "source": []
  },
  {
   "cell_type": "code",
   "execution_count": 17,
   "metadata": {},
   "outputs": [
    {
     "name": "stdout",
     "output_type": "stream",
     "text": [
      "conv1.weight.grad    torch.Size([6, 1, 5, 5])\n",
      "conv1.bias.grad    torch.Size([6])\n",
      "conv2.weight.grad    torch.Size([12, 6, 5, 5])\n",
      "conv2.bias.grad    torch.Size([12])\n",
      "fc1.weight.grad    torch.Size([120, 192])\n",
      "fc1.bias.grad    torch.Size([120])\n",
      "fc2.weight.grad    torch.Size([60, 120])\n",
      "fc2.bias.grad    torch.Size([60])\n",
      "out.weight.grad    torch.Size([10, 60])\n",
      "out.bias.grad    torch.Size([10])\n"
     ]
    }
   ],
   "source": [
    "for name,weight in network.named_parameters():\n",
    "    print(f'{name}.grad   ',weight.grad.shape)"
   ]
  },
  {
   "cell_type": "code",
   "execution_count": null,
   "metadata": {},
   "outputs": [],
   "source": []
  }
 ],
 "metadata": {
  "kernelspec": {
   "display_name": "Python 3",
   "language": "python",
   "name": "python3"
  },
  "language_info": {
   "codemirror_mode": {
    "name": "ipython",
    "version": 3
   },
   "file_extension": ".py",
   "mimetype": "text/x-python",
   "name": "python",
   "nbconvert_exporter": "python",
   "pygments_lexer": "ipython3",
   "version": "3.7.7"
  }
 },
 "nbformat": 4,
 "nbformat_minor": 4
}
